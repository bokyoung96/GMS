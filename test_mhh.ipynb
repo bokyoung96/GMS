{
 "cells": [
  {
   "cell_type": "code",
   "execution_count": null,
   "metadata": {},
   "outputs": [],
   "source": [
    "if __name__ == '__main__':\n",
    "    \n",
    "    print(\"Initial commit\")\n",
    "    print(\"Complete\")"
   ]
  }
 ],
 "metadata": {
  "kernelspec": {
   "display_name": "Python 3.9.12 ('base')",
   "language": "python",
   "name": "python3"
  },
  "language_info": {
   "name": "python",
   "version": "3.9.12"
  },
  "orig_nbformat": 4,
  "vscode": {
   "interpreter": {
    "hash": "33bea494317c8c22a4760028ceed23349c4667bf8f6d1305a13b8d31b6e7f27d"
   }
  }
 },
 "nbformat": 4,
 "nbformat_minor": 2
}
